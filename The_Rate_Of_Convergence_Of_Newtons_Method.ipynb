{
 "cells": [
  {
   "cell_type": "markdown",
   "id": "eb654ac7",
   "metadata": {},
   "source": [
    "Здравствуйте, Николай Юрьевич, я не справился с 35 вариантом, который вы мне дали, на мой взгляд он не решаемый или я всё же что-то не понимаю. Поэтому я сделал другой варинт - 22-ой. я посмотрел по таблице этот вариант из моей группы никто не делает и он так же связан с темой которая у меня была в 35 варинте, поэтому я его взял. Надеюсь вы не против.\n",
    "\n"
   ]
  },
  {
   "cell_type": "markdown",
   "id": "42814bc9",
   "metadata": {},
   "source": [
    "# Жаткин Вячеслав 3821Б1ПР2\n",
    "\n",
    "\n"
   ]
  },
  {
   "cell_type": "markdown",
   "id": "72699487",
   "metadata": {},
   "source": [
    "# 22 вариант \"Скорость сходимости метода Ньютона\""
   ]
  },
  {
   "cell_type": "markdown",
   "id": "2b988841",
   "metadata": {},
   "source": [
    "_Задание:_ Примените метод Ньютона scipy.optimize.newton к решению каждого из уравнений $(x - 1)^2 = 0$ и \n",
    "$e^2x - 2e^x + 1 = 0 $. Покажите экспериментально (постройте графики зависимости ошибки от номера шага), что итерации сходятся линейно, а не квадратично. Попробуйте доказать это теоретически."
   ]
  },
  {
   "cell_type": "markdown",
   "id": "2bb83679",
   "metadata": {},
   "source": [
    "## Решение:"
   ]
  },
  {
   "cell_type": "code",
   "execution_count": 59,
   "id": "f33d6213",
   "metadata": {},
   "outputs": [],
   "source": [
    "import math\n",
    "import numpy as numpy                \n",
    "import matplotlib.pyplot as plt   \n",
    "from scipy import optimize\n",
    "%matplotlib inline"
   ]
  },
  {
   "cell_type": "markdown",
   "id": "639b7c91",
   "metadata": {},
   "source": [
    "Первая функция $(x-1)^2 = 0$"
   ]
  },
  {
   "cell_type": "code",
   "execution_count": 60,
   "id": "4a6cbda5",
   "metadata": {},
   "outputs": [],
   "source": [
    "def f1(x): \n",
    "    return (x-1)**2 \n"
   ]
  },
  {
   "cell_type": "markdown",
   "id": "c2bcb706",
   "metadata": {},
   "source": [
    "Для использлвания функции scipy.optimize.newton нам понадобятся производная и производная второго порядка нашей функции"
   ]
  },
  {
   "cell_type": "markdown",
   "id": "9a6a7d22",
   "metadata": {},
   "source": [
    "$f'= 2(x-1)$"
   ]
  },
  {
   "cell_type": "markdown",
   "id": "7bcb015f",
   "metadata": {},
   "source": [
    "$f'' = 2$"
   ]
  },
  {
   "cell_type": "code",
   "execution_count": 61,
   "id": "ce34f3f4",
   "metadata": {},
   "outputs": [],
   "source": [
    "derevative11 = lambda x: 2*(x-1) \n",
    "derevative12 = lambda x: 2    "
   ]
  },
  {
   "cell_type": "markdown",
   "id": "dc8ee2c8",
   "metadata": {},
   "source": [
    "Создаём нужные нам массивы"
   ]
  },
  {
   "cell_type": "code",
   "execution_count": 62,
   "id": "54a9168d",
   "metadata": {},
   "outputs": [],
   "source": [
    "massx1=[]                                   \n",
    "number_of_iterations = numpy.arange(1, 600) "
   ]
  },
  {
   "cell_type": "markdown",
   "id": "98443873",
   "metadata": {},
   "source": [
    "применяем нужную нам функцию и заполняем массив"
   ]
  },
  {
   "cell_type": "code",
   "execution_count": 63,
   "id": "6783421e",
   "metadata": {
    "scrolled": true
   },
   "outputs": [],
   "source": [
    "for i in number_of_iterations: \n",
    "    error_rate= optimize.newton(f1, 2, maxiter=i, disp=0, fprime = derevative11, fprime2 = derevative12)#применям нужную функцию\n",
    "    error_rate = error_rate - 1 #Для нахождения погрешноти вычитаем корень наешго уравнения (в нашем случаем это 1 )\n",
    "    massx1.append(error_rate) #Заполнеие массива \n",
    "y1 = numpy.logspace(massx1[0], massx1[len(massx1)-1], num=len(massx1))"
   ]
  },
  {
   "cell_type": "markdown",
   "id": "4c5b409c",
   "metadata": {},
   "source": [
    "Рисуем график"
   ]
  },
  {
   "cell_type": "code",
   "execution_count": 64,
   "id": "ba207967",
   "metadata": {},
   "outputs": [
    {
     "data": {
      "image/png": "[encoded data removed]",
      "text/plain": [
       "<Figure size 432x288 with 1 Axes>"
      ]
     },
     "metadata": {
      "needs_background": "light"
     },
     "output_type": "display_data"
    }
   ],
   "source": [
    "plt.xlabel('Номер Шага')           \n",
    "plt.ylabel('Погрешность') \n",
    "plt.plot(number_of_iterations, y1, color = 'purple', linewidth = 3)\n",
    "plt.grid()\n",
    "pass"
   ]
  },
  {
   "cell_type": "markdown",
   "id": "dae641b1",
   "metadata": {},
   "source": [
    "Проделываем то же самое со второй функцией\n",
    "снова находим производную и производную воторого порядка "
   ]
  },
  {
   "cell_type": "markdown",
   "id": "a3349042",
   "metadata": {},
   "source": [
    "$f'= 2e^2x - 2e^x$"
   ]
  },
  {
   "cell_type": "markdown",
   "id": "4b474cda",
   "metadata": {},
   "source": [
    "$𝑓′=4𝑒^2𝑥−2𝑒^𝑥$"
   ]
  },
  {
   "cell_type": "code",
   "execution_count": 65,
   "id": "ac637cac",
   "metadata": {},
   "outputs": [],
   "source": [
    "def f2(x): # наша вторая функция    \n",
    "    return (math.exp(x)-1)**2\n",
    "\n",
    "derevative21 = lambda x: (2*math.exp(2*x)) - (2*math.exp(x)) # производная \n",
    "derevative22 = lambda x:(4*math.exp(2*x)) - (2*math.exp(x))  # производная второго порядка \n",
    "# создаём массивы\n",
    "massx2 = []                                  \n",
    "number_of_iterations = numpy.arange(1,600)\n",
    "\n",
    "for i in number_of_iterations: \n",
    "    error_rate = optimize.newton(f2,1, maxiter=i,disp=0, fprime = f2x, fprime2 = f2xx)#применям нужную функцию\n",
    "    #Для нахождения погрешноти вычитаем корень наешго уравнения, в этом случае 0, поэтому ничего не пишем\n",
    "    massx2.append(error_rate)  #Заполнеие массива \n",
    "y2=numpy.logspace(massx2[0],massx2[len(x2)-1],num=len(massx2))"
   ]
  },
  {
   "cell_type": "markdown",
   "id": "55d999cc",
   "metadata": {},
   "source": [
    "Рисуем график для второй функции"
   ]
  },
  {
   "cell_type": "code",
   "execution_count": 66,
   "id": "511a9cbb",
   "metadata": {},
   "outputs": [
    {
     "data": {
      "image/png": "[encoded data removed]",
      "text/plain": [
       "<Figure size 432x288 with 1 Axes>"
      ]
     },
     "metadata": {
      "needs_background": "light"
     },
     "output_type": "display_data"
    }
   ],
   "source": [
    "plt.xlabel('Номер Шага')           \n",
    "plt.ylabel('Погрешность') \n",
    "plt.plot(number_of_iterations, y2, color = 'brown', linewidth = 3)\n",
    "plt.grid()\n",
    "pass"
   ]
  },
  {
   "cell_type": "markdown",
   "id": "e1e5559e",
   "metadata": {},
   "source": [
    "# Вывод:"
   ]
  },
  {
   "cell_type": "markdown",
   "id": "574f00a8",
   "metadata": {},
   "source": [
    "после применния функции scipy.optimize.newton, я показал эксперементально что иттерации сходятся линейно, а не квадратично. "
   ]
  },
  {
   "cell_type": "markdown",
   "id": "9231654e",
   "metadata": {},
   "source": [
    "# Доказательство Теоретическое"
   ]
  },
  {
   "cell_type": "markdown",
   "id": "041940f8",
   "metadata": {},
   "source": [
    "Честно говоря я не особо знаком с методом Ньютона, поэтому все следующие действия будут взяты по инструкции из Википедии\n"
   ]
  },
  {
   "cell_type": "markdown",
   "id": "78845ee6",
   "metadata": {},
   "source": [
    "функция определяется как $φ(x) = x - \\frac{f(x)}{f'(x)}$"
   ]
  },
  {
   "cell_type": "markdown",
   "id": "03cb5159",
   "metadata": {},
   "source": [
    "А наша первая функция определяется как: $φ(x) = \\frac{x+1}{2}$"
   ]
  },
  {
   "cell_type": "markdown",
   "id": "5e317735",
   "metadata": {},
   "source": [
    "нарисуем график"
   ]
  },
  {
   "cell_type": "code",
   "execution_count": 83,
   "id": "e896ad9a",
   "metadata": {},
   "outputs": [
    {
     "data": {
      "image/png": "[encoded data removed]",
      "text/plain": [
       "<Figure size 432x288 with 1 Axes>"
      ]
     },
     "metadata": {
      "needs_background": "light"
     },
     "output_type": "display_data"
    }
   ],
   "source": [
    "import numpy as np\n",
    "plt.title(r'$φ(x)= \\frac{x+1}{2}$')\n",
    "x = np.linspace(0, 50, 500)\n",
    "y = (x+1)/2\n",
    "plt.plot(x, y, color = 'purple',  linewidth = 3)\n",
    "plt.grid()\n",
    "pass"
   ]
  },
  {
   "cell_type": "markdown",
   "id": "3bffac50",
   "metadata": {},
   "source": [
    "вторая функция определится как: $φ(x) = \\frac{2e^x - 1}{2e^x}$"
   ]
  },
  {
   "cell_type": "code",
   "execution_count": 84,
   "id": "eb8b8ef3",
   "metadata": {},
   "outputs": [
    {
     "data": {
      "image/png": "[encoded data removed]",
      "text/plain": [
       "<Figure size 432x288 with 1 Axes>"
      ]
     },
     "metadata": {
      "needs_background": "light"
     },
     "output_type": "display_data"
    }
   ],
   "source": [
    "plt.title(r'$ x - \\frac{2*x*e^x - 1}{2e^x} $')  \n",
    "y=[]              \n",
    "x = np.linspace(0, 50, 500)\n",
    "def f(x): \n",
    "    return x - (2*math.exp(x)-1)/(2*math.exp(x)) # Функция(2)\n",
    "for x1 in x:\n",
    "    y.append(f(x1))   \n",
    "plt.title(r'$ x - \\frac{e^x - 1}{2e^x} $')                         \n",
    "plt.plot(x,y, color = 'brown', linewidth = 3) # График\n",
    "pass"
   ]
  },
  {
   "cell_type": "markdown",
   "id": "de2287c5",
   "metadata": {},
   "source": [
    "# Вывод"
   ]
  },
  {
   "cell_type": "markdown",
   "id": "07627c2c",
   "metadata": {},
   "source": [
    "И теоретически получилось доказать что итерации сходятся линейно а не квадратично."
   ]
  }
 ],
 "metadata": {
  "kernelspec": {
   "display_name": "Python 3 (ipykernel)",
   "language": "python",
   "name": "python3"
  },
  "language_info": {
   "codemirror_mode": {
    "name": "ipython",
    "version": 3
   },
   "file_extension": ".py",
   "mimetype": "text/x-python",
   "name": "python",
   "nbconvert_exporter": "python",
   "pygments_lexer": "ipython3",
   "version": "3.9.7"
  }
 },
 "nbformat": 4,
 "nbformat_minor": 5
}
